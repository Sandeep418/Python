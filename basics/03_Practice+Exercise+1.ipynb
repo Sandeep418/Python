{
  "cells": [
    {
      "cell_type": "markdown",
      "metadata": {
        "id": "_qj0U5rsZOFN"
      },
      "source": [
        "## Practice Exercise 1"
      ]
    },
    {
      "cell_type": "markdown",
      "metadata": {
        "id": "UHKgOuOxZOFP"
      },
      "source": [
        "You are provided with 2 lists that contain the data of an ecommerce website. The first list contains the data for the number of items sold for a particular product and the second list contains the price of the product sold. As a part of this exercise, solve the questions that are provided below."
      ]
    },
    {
      "cell_type": "code",
      "execution_count": 1,
      "metadata": {
        "id": "rONQe1ksZOFP"
      },
      "outputs": [],
      "source": [
        "number = [8, 9, 9, 1, 6, 9, 5, 7, 3, 9, 7, 3, 4, 8, 3, 5, 8, 4, 8, 7, 5, 7, 3, 6, 1, 2, 7, 4, 7, 7, 8, 4, 3, 4, 2, 2, 2, 7, 3, 5, 6, 1, 1, 3, 2, 1, 1, 7, 7, 1, 4, 4, 5, 6, 1, 2, 7, 4, 5, 8, 1, 4, 8, 6, 2, 4, 3, 7, 3, 6, 2, 3, 3, 3, 2, 4, 6, 8, 9, 3, 9, 3, 1, 8, 6, 6, 3, 3, 9, 4, 6, 4, 9, 6, 7, 1, 2, 8, 7, 8, 1, 4]\n",
        "price = [195, 225, 150, 150, 90, 60, 75, 255, 270, 225, 135, 195, 30, 15, 210, 105, 15, 30, 180, 60, 165, 60, 45, 225, 180, 90, 30, 210, 150, 15, 270, 60, 210, 180, 60, 225, 150, 150, 120, 195, 75, 240, 60, 45, 30, 180, 240, 285, 135, 165, 180, 240, 60, 105, 165, 240, 120, 45, 120, 165, 285, 225, 90, 105, 225, 45, 45, 45, 75, 180, 90, 240, 30, 30, 60, 135, 180, 15, 255, 180, 270, 135, 105, 135, 210, 180, 135, 195, 225, 75, 225, 15, 240, 60, 15, 180, 255, 90, 15, 150, 230, 150]"
      ]
    },
    {
      "cell_type": "markdown",
      "metadata": {
        "id": "WkXKTq0DZOFQ"
      },
      "source": [
        "#### How many different products are sold by the company in total?\n",
        "\n",
        "-  99\n",
        "-  100\n",
        "-  101\n",
        "-  102\n"
      ]
    },
    {
      "cell_type": "code",
      "execution_count": 15,
      "metadata": {
        "colab": {
          "base_uri": "https://localhost:8080/"
        },
        "id": "_x1gZBVoZOFR",
        "outputId": "0e834f87-f632-4fa5-ff7f-cadaca1c969e"
      },
      "outputs": [
        {
          "output_type": "stream",
          "name": "stdout",
          "text": [
            "102\n"
          ]
        }
      ],
      "source": [
        "# Type your code here\n",
        "print(len(number))"
      ]
    },
    {
      "cell_type": "markdown",
      "metadata": {
        "id": "UW3ybsI3ZOFR"
      },
      "source": [
        "#### How many items were sold in total?\n",
        "\n",
        "-  460\n",
        "-  490\n",
        "-  500\n",
        "-  520\n"
      ]
    },
    {
      "cell_type": "code",
      "execution_count": 16,
      "metadata": {
        "colab": {
          "base_uri": "https://localhost:8080/"
        },
        "id": "GbeBu2epZOFS",
        "outputId": "a03541aa-0293-497c-d2b3-9f6c4d90ee39"
      },
      "outputs": [
        {
          "output_type": "execute_result",
          "data": {
            "text/plain": [
              "490"
            ]
          },
          "metadata": {},
          "execution_count": 16
        }
      ],
      "source": [
        "# Type your code here\n",
        "import numpy as np\n",
        "np.array(number).sum()"
      ]
    },
    {
      "cell_type": "markdown",
      "metadata": {
        "id": "qb8TPvDbZOFS"
      },
      "source": [
        "#### What is the average price of the products sold by the ecommerce company?\n",
        "\n",
        "-  139\n",
        "-  151\n",
        "-  142\n",
        "-  128"
      ]
    },
    {
      "cell_type": "code",
      "execution_count": 6,
      "metadata": {
        "colab": {
          "base_uri": "https://localhost:8080/"
        },
        "id": "ZBxqPuAqZOFS",
        "outputId": "1523580b-e886-4e09-f3ca-a48f439e8390"
      },
      "outputs": [
        {
          "output_type": "execute_result",
          "data": {
            "text/plain": [
              "139"
            ]
          },
          "metadata": {},
          "execution_count": 6
        }
      ],
      "source": [
        "# Type your code here\n",
        "import numpy as np\n",
        "np.array(price).sum()//len(price)"
      ]
    },
    {
      "cell_type": "markdown",
      "metadata": {
        "id": "C28uyGe8ZOFT"
      },
      "source": [
        "#### What is the price of the costliest item sold?\n",
        "\n",
        "-  225\n",
        "-  310\n",
        "-  280\n",
        "-  285"
      ]
    },
    {
      "cell_type": "code",
      "execution_count": 7,
      "metadata": {
        "colab": {
          "base_uri": "https://localhost:8080/"
        },
        "id": "JWKzmu71ZOFT",
        "outputId": "b963be26-02b0-4feb-997e-ace4505de02c"
      },
      "outputs": [
        {
          "output_type": "execute_result",
          "data": {
            "text/plain": [
              "285"
            ]
          },
          "metadata": {},
          "execution_count": 7
        }
      ],
      "source": [
        "# Type your code here\n",
        "np.array(price).max()\n"
      ]
    },
    {
      "cell_type": "markdown",
      "metadata": {
        "id": "Pun5i9NCZOFT"
      },
      "source": [
        "#### What is the total revenue of the company? [Revenue = Price\\*Quantity]\n",
        "\n",
        "-  67100\n",
        "-  53900\n",
        "-  45300\n",
        "-  71200"
      ]
    },
    {
      "cell_type": "code",
      "execution_count": 25,
      "metadata": {
        "colab": {
          "base_uri": "https://localhost:8080/"
        },
        "id": "Up1D5ow6ZOFU",
        "outputId": "e36bdb10-abe5-425a-e75f-a17ba4d3694d"
      },
      "outputs": [
        {
          "output_type": "stream",
          "name": "stdout",
          "text": [
            "67100\n"
          ]
        }
      ],
      "source": [
        "# Type your code here\n",
        "import numpy as np\n",
        "number = np.array(number)\n",
        "price = np.array(price)\n",
        "\n",
        "print(np.sum(price*number))"
      ]
    },
    {
      "cell_type": "code",
      "source": [],
      "metadata": {
        "id": "PKFKpbvalvHy"
      },
      "execution_count": null,
      "outputs": []
    },
    {
      "cell_type": "markdown",
      "metadata": {
        "collapsed": true,
        "id": "8U-g93WDZOFU"
      },
      "source": [
        "#### Demand for the 20th product in the list is more than the 50th product. [True/False]\n",
        "-  True\n",
        "-  False\n",
        "-  Can't be calculated"
      ]
    },
    {
      "cell_type": "code",
      "execution_count": 26,
      "metadata": {
        "colab": {
          "base_uri": "https://localhost:8080/"
        },
        "id": "RW-5g6uIZOFU",
        "outputId": "5a3ebf57-c08e-432e-e505-9aceb2337a50"
      },
      "outputs": [
        {
          "output_type": "stream",
          "name": "stdout",
          "text": [
            "True\n"
          ]
        }
      ],
      "source": [
        "# Type your code here\n",
        "\n",
        "# Type your code here\n",
        "number = [8, 9, 9, 1, 6, 9, 5, 7, 3, 9, 7, 3, 4, 8, 3, 5, 8, 4, 8, 7, 5, 7, 3, 6, 1, 2, 7, 4, 7, 7, 8, 4, 3, 4, 2, 2, 2, 7, 3, 5, 6, 1, 1, 3, 2, 1, 1, 7, 7, 1, 4, 4, 5, 6, 1, 2, 7, 4, 5, 8, 1, 4, 8, 6, 2, 4, 3, 7, 3, 6, 2, 3, 3, 3, 2, 4, 6, 8, 9, 3, 9, 3, 1, 8, 6, 6, 3, 3, 9, 4, 6, 4, 9, 6, 7, 1, 2, 8, 7, 8, 1, 4]\n",
        "price = [195, 225, 150, 150, 90, 60, 75, 255, 270, 225, 135, 195, 30, 15, 210, 105, 15, 30, 180, 60, 165, 60, 45, 225, 180, 90, 30, 210, 150, 15, 270, 60, 210, 180, 60, 225, 150, 150, 120, 195, 75, 240, 60, 45, 30, 180, 240, 285, 135, 165, 180, 240, 60, 105, 165, 240, 120, 45, 120, 165, 285, 225, 90, 105, 225, 45, 45, 45, 75, 180, 90, 240, 30, 30, 60, 135, 180, 15, 255, 180, 270, 135, 105, 135, 210, 180, 135, 195, 225, 75, 225, 15, 240, 60, 15, 180, 255, 90, 15, 150, 230, 150]\n",
        "\n",
        "import numpy as  np\n",
        "\n",
        "number = np.array(number)\n",
        "price = np.array(price)\n",
        "\n",
        "print(number[19]>number[49])"
      ]
    },
    {
      "cell_type": "markdown",
      "metadata": {
        "id": "1CS-WrVYZOFU"
      },
      "source": [
        "#### How many products fall under the category of expensive goods?\n",
        "An expensive good is that good whose price is more than the average price of the products sold by the company.\n",
        "\n",
        "-  48\n",
        "-  50\n",
        "-  52\n",
        "-  54"
      ]
    },
    {
      "cell_type": "code",
      "execution_count": null,
      "metadata": {
        "id": "3CuXmKTxZOFU"
      },
      "outputs": [],
      "source": [
        "# Type your code here"
      ]
    },
    {
      "cell_type": "code",
      "execution_count": 10,
      "metadata": {
        "colab": {
          "base_uri": "https://localhost:8080/"
        },
        "id": "nySO3oP9ZOFU",
        "outputId": "49aaba43-11dc-4865-80da-0b774b7e8e69"
      },
      "outputs": [
        {
          "output_type": "execute_result",
          "data": {
            "text/plain": [
              "52"
            ]
          },
          "metadata": {},
          "execution_count": 10
        }
      ],
      "source": [
        "import numpy as np\n",
        "p=np.array(price)\n",
        "p[p>139].size"
      ]
    }
  ],
  "metadata": {
    "kernelspec": {
      "display_name": "Python 3",
      "language": "python",
      "name": "python3"
    },
    "language_info": {
      "codemirror_mode": {
        "name": "ipython",
        "version": 3
      },
      "file_extension": ".py",
      "mimetype": "text/x-python",
      "name": "python",
      "nbconvert_exporter": "python",
      "pygments_lexer": "ipython3",
      "version": "3.7.0"
    },
    "colab": {
      "provenance": []
    }
  },
  "nbformat": 4,
  "nbformat_minor": 0
}